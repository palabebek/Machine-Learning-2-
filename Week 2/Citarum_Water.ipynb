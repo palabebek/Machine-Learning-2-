{
  "cells": [
    {
      "cell_type": "markdown",
      "id": "SiniUIBSyf4r",
      "metadata": {
        "id": "SiniUIBSyf4r"
      },
      "source": [
        "# **Citarum Water**"
      ]
    },
    {
      "cell_type": "code",
      "execution_count": 1,
      "id": "c83025f5",
      "metadata": {
        "id": "c83025f5"
      },
      "outputs": [],
      "source": [
        "\n",
        "import pandas as pd\n",
        "import numpy as np\n",
        "import matplotlib.pyplot as plt\n",
        "from sklearn.model_selection import train_test_split\n",
        "from sklearn.linear_model import LogisticRegression\n",
        "from sklearn.preprocessing import StandardScaler\n",
        "from sklearn.metrics import accuracy_score, precision_score, recall_score, f1_score, roc_auc_score, roc_curve, auc\n",
        "import warnings\n",
        "warnings.filterwarnings('ignore')\n"
      ]
    },
    {
      "cell_type": "code",
      "execution_count": 3,
      "id": "b42add1b",
      "metadata": {
        "colab": {
          "base_uri": "https://localhost:8080/"
        },
        "id": "b42add1b",
        "outputId": "4507e38b-e5b5-4006-f99d-60c4884ef44b"
      },
      "outputs": [
        {
          "name": "stdout",
          "output_type": "stream",
          "text": [
            "Data Head:\n",
            "   No NamaSungai             TitikPantau       Waktu    pH     Temp   TSS  \\\n",
            "0   1    Citarum             Wangisagara  18/04/2018  7.57  25.55°C  11.0   \n",
            "1   2    Citarum                   Koyod  18/04/2018  7.69  25.55°C  13.0   \n",
            "2   3    Citarum   Setelah IPAL Cisirung  18/04/2018  7.39  25.55°C  15.0   \n",
            "3   4    Citarum                 Nanjung  18/04/2018  7.49  25.55°C  17.0   \n",
            "4   5    Citarum  Outlet Waduk Jatiluhur  18/04/2018  7.17  25.55°C   6.0   \n",
            "\n",
            "     DO   BOD    COD  Nitrat  FecalColiform  Fosfat O2    IP  Class  \n",
            "0  6.11  3.30   6.10    1.08        17000.0   0.043  -  5.12      3  \n",
            "1  6.20  5.31  12.50    1.85        28000.0   0.011  -  5.91      3  \n",
            "2  3.61  7.40  23.50    1.25        90000.0   0.230  -  7.76      3  \n",
            "3  3.17  8.13  27.50    1.21       300000.0   0.057  -  9.61      3  \n",
            "4  6.82  2.89   5.44    1.04         3000.0   0.110  -  2.44      2  \n",
            "\n",
            "Columns: Index(['No', 'NamaSungai', 'TitikPantau', 'Waktu', 'pH', 'Temp', 'TSS', 'DO',\n",
            "       'BOD', 'COD', 'Nitrat', 'FecalColiform', 'Fosfat', 'O2', 'IP', 'Class'],\n",
            "      dtype='object')\n",
            "\n",
            "Missing Values: No               0\n",
            "NamaSungai       0\n",
            "TitikPantau      0\n",
            "Waktu            0\n",
            "pH               0\n",
            "Temp             0\n",
            "TSS              0\n",
            "DO               0\n",
            "BOD              0\n",
            "COD              0\n",
            "Nitrat           0\n",
            "FecalColiform    0\n",
            "Fosfat           0\n",
            "O2               0\n",
            "IP               0\n",
            "Class            0\n",
            "dtype: int64\n"
          ]
        }
      ],
      "source": [
        "# Load dataset\n",
        "file_path = \"/content/CitarumWater.csv\"  # Sesuaikan jika perlu\n",
        "data = pd.read_csv(file_path)\n",
        "print(\"Data Head:\")\n",
        "print(data.head())\n",
        "print(\"\\nColumns:\", data.columns)\n",
        "print(\"\\nMissing Values:\", data.isnull().sum())\n",
        "\n"
      ]
    },
    {
      "cell_type": "code",
      "execution_count": 4,
      "id": "de2de7ee",
      "metadata": {
        "id": "de2de7ee"
      },
      "outputs": [],
      "source": [
        "\n",
        "# Assume the last column is the target and the rest are features\n",
        "X = data.iloc[:, :-1]\n",
        "y = data.iloc[:, -1]\n",
        "\n",
        "# Convert categorical columns to numeric using one-hot encoding\n",
        "X = pd.get_dummies(X, drop_first=True)\n",
        "\n",
        "# Standardize features\n",
        "scaler = StandardScaler()\n",
        "X_scaled = scaler.fit_transform(X)\n",
        "\n",
        "# Split dataset\n",
        "X_train, X_test, y_train, y_test = train_test_split(X_scaled, y, test_size=0.2, random_state=42)\n"
      ]
    },
    {
      "cell_type": "code",
      "execution_count": 5,
      "id": "2fd0ed7e",
      "metadata": {
        "colab": {
          "base_uri": "https://localhost:8080/"
        },
        "id": "2fd0ed7e",
        "outputId": "b0a28cd1-cb52-4938-b6b0-185f22171404"
      },
      "outputs": [
        {
          "name": "stdout",
          "output_type": "stream",
          "text": [
            "Accuracy: 0.8880\n",
            "Precision: 0.8615\n",
            "Recall: 0.7343\n",
            "F1 Score: 0.7768\n",
            "AUC: 0.9696\n"
          ]
        }
      ],
      "source": [
        "\n",
        "# Train Logistic Regression model\n",
        "model = LogisticRegression(max_iter=1000)\n",
        "model.fit(X_train, y_train)\n",
        "\n",
        "# Make predictions\n",
        "y_pred = model.predict(X_test)\n",
        "y_pred_proba = model.predict_proba(X_test)\n",
        "\n",
        "# Evaluate the model\n",
        "accuracy = accuracy_score(y_test, y_pred)\n",
        "precision = precision_score(y_test, y_pred, average='macro')\n",
        "recall = recall_score(y_test, y_pred, average='macro')\n",
        "f1 = f1_score(y_test, y_pred, average='macro')\n",
        "auc_score = roc_auc_score(y_test, y_pred_proba, multi_class='ovr', average='macro')\n",
        "\n",
        "print(f'Accuracy: {accuracy:.4f}')\n",
        "print(f'Precision: {precision:.4f}')\n",
        "print(f'Recall: {recall:.4f}')\n",
        "print(f'F1 Score: {f1:.4f}')\n",
        "print(f'AUC: {auc_score:.4f}')\n"
      ]
    },
    {
      "cell_type": "code",
      "execution_count": 6,
      "id": "6c3274c5",
      "metadata": {
        "colab": {
          "base_uri": "https://localhost:8080/",
          "height": 472
        },
        "id": "6c3274c5",
        "outputId": "1e250dce-786c-4e52-bc76-5f295c124a33"
      },
      "outputs": [
        {
          "data": {
            "image/png": "[encoded data removed]",
            "text/plain": [
              "<Figure size 640x480 with 1 Axes>"
            ]
          },
          "metadata": {},
          "output_type": "display_data"
        }
      ],
      "source": [
        "\n",
        "# Plot ROC curve for each class\n",
        "plt.figure()\n",
        "n_classes = len(model.classes_)\n",
        "for i in range(n_classes):\n",
        "    fpr, tpr, _ = roc_curve(y_test, y_pred_proba[:, i], pos_label=model.classes_[i])\n",
        "    plt.plot(fpr, tpr, label=f'Class {model.classes_[i]} (area = {roc_auc_score(y_test == model.classes_[i], y_pred_proba[:, i]):.2f})')\n",
        "\n",
        "plt.plot([0, 1], [0, 1], 'k--')\n",
        "plt.xlim([0.0, 1.0])\n",
        "plt.ylim([0.0, 1.05])\n",
        "plt.xlabel('False Positive Rate')\n",
        "plt.ylabel('True Positive Rate')\n",
        "plt.title('Receiver Operating Characteristic')\n",
        "plt.legend(loc=\"lower right\")\n",
        "plt.show()\n"
      ]
    },
    {
      "cell_type": "code",
      "execution_count": 7,
      "id": "KrH5xTp9yS9L",
      "metadata": {
        "colab": {
          "base_uri": "https://localhost:8080/",
          "height": 239
        },
        "id": "KrH5xTp9yS9L",
        "outputId": "3d34f2fc-6f7c-4cf5-9200-1d1d95c60a01"
      },
      "outputs": [
        {
          "data": {
            "text/latex": [
              "$\\displaystyle h_\\theta(x) = \\frac{1}{1 + e^{-\\theta^T x}}$"
            ],
            "text/plain": [
              "<IPython.core.display.Math object>"
            ]
          },
          "metadata": {},
          "output_type": "display_data"
        },
        {
          "data": {
            "text/latex": [
              "$\\displaystyle Accuracy = \\frac{TP + TN}{TP + TN + FP + FN}$"
            ],
            "text/plain": [
              "<IPython.core.display.Math object>"
            ]
          },
          "metadata": {},
          "output_type": "display_data"
        },
        {
          "data": {
            "text/latex": [
              "$\\displaystyle Precision = \\frac{TP}{TP + FP}$"
            ],
            "text/plain": [
              "<IPython.core.display.Math object>"
            ]
          },
          "metadata": {},
          "output_type": "display_data"
        },
        {
          "data": {
            "text/latex": [
              "$\\displaystyle Recall = \\frac{TP}{TP + FN}$"
            ],
            "text/plain": [
              "<IPython.core.display.Math object>"
            ]
          },
          "metadata": {},
          "output_type": "display_data"
        },
        {
          "data": {
            "text/latex": [
              "$\\displaystyle F1 = 2 \\cdot \\frac{Precision \\cdot Recall}{Precision + Recall}$"
            ],
            "text/plain": [
              "<IPython.core.display.Math object>"
            ]
          },
          "metadata": {},
          "output_type": "display_data"
        },
        {
          "data": {
            "text/latex": [
              "$\\displaystyle AUC = \\int_{0}^{1} TPR \\, d(FPR)$"
            ],
            "text/plain": [
              "<IPython.core.display.Math object>"
            ]
          },
          "metadata": {},
          "output_type": "display_data"
        }
      ],
      "source": [
        "from IPython.display import display, Math\n",
        "\n",
        "# Explanation of mathematical equations\n",
        "# Logistic Regression Equation\n",
        "display(Math(r'h_\\theta(x) = \\frac{1}{1 + e^{-\\theta^T x}}'))\n",
        "\n",
        "# Accuracy\n",
        "display(Math(r'Accuracy = \\frac{TP + TN}{TP + TN + FP + FN}'))\n",
        "\n",
        "# Precision\n",
        "display(Math(r'Precision = \\frac{TP}{TP + FP}'))\n",
        "\n",
        "# Recall\n",
        "display(Math(r'Recall = \\frac{TP}{TP + FN}'))\n",
        "\n",
        "# F1 Score\n",
        "display(Math(r'F1 = 2 \\cdot \\frac{Precision \\cdot Recall}{Precision + Recall}'))\n",
        "\n",
        "# AUC\n",
        "display(Math(r'AUC = \\int_{0}^{1} TPR \\, d(FPR)'))"
      ]
    }
  ],
  "metadata": {
    "colab": {
      "provenance": []
    },
    "kernelspec": {
      "display_name": "Python 3",
      "name": "python3"
    },
    "language_info": {
      "name": "python"
    }
  },
  "nbformat": 4,
  "nbformat_minor": 5
}
